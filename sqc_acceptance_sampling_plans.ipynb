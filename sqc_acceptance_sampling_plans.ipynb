{
 "cells": [
  {
   "cell_type": "markdown",
   "id": "e62d8c72",
   "metadata": {},
   "source": [
    "## Acceptance sampling plans"
   ]
  },
  {
   "cell_type": "markdown",
   "id": "05432223",
   "metadata": {},
   "source": [
    "Suppose that a single-sampling plan with n = 150 and c = 2 is being used for receiving inspection where the supplier ships the product in lots of size N = 3000.\n",
    "\n",
    "a) Draw the OC curve for this plan.\n",
    "\n",
    "b) Draw the AOQ curve and find the AOQL.\n",
    "\n",
    "c) Draw the ATI curve for this plan."
   ]
  },
  {
   "cell_type": "code",
   "execution_count": 1,
   "id": "0c8147bf",
   "metadata": {},
   "outputs": [],
   "source": [
    "import pandas as pd\n",
    "import numpy as np\n",
    "import matplotlib.pyplot as plt"
   ]
  },
  {
   "cell_type": "markdown",
   "id": "cc134d9e",
   "metadata": {},
   "source": [
    "##### OC Curve"
   ]
  },
  {
   "cell_type": "code",
   "execution_count": 3,
   "id": "af63f264",
   "metadata": {},
   "outputs": [],
   "source": [
    "from math import factorial\n",
    "# Function to calculate Combination\n",
    "def comb(n, r):\n",
    "    return factorial(n) / (factorial(r) * factorial(n-r))"
   ]
  },
  {
   "cell_type": "code",
   "execution_count": 4,
   "id": "8be2c355",
   "metadata": {},
   "outputs": [],
   "source": [
    "# Function to Calculate Probabiliy of Acceptance Using Hypergeometric function for finite lot size\n",
    "def hypergeometric(c, n, N, data):\n",
    "    prob = []\n",
    "    for i in data.index:\n",
    "        h = []\n",
    "        p = data[i]\n",
    "        for j in range(c+1):\n",
    "            M = int(N*p) \n",
    "            if M == 0:\n",
    "                value = (comb((N-M), (n-j)) ) // comb(N, n)\n",
    "                h.append(value)\n",
    "            elif N-M >= n-j and M >= j:\n",
    "                value = (comb(M, j) * comb((N-M), (n-j)) ) / comb(N, n)\n",
    "                h.append(value)\n",
    "            else:\n",
    "                h.append(0)\n",
    "        prob.append(np.round(np.sum(h), 5))\n",
    "    return prob"
   ]
  },
  {
   "cell_type": "code",
   "execution_count": 6,
   "id": "0cedeb80",
   "metadata": {},
   "outputs": [],
   "source": [
    "# Function to Calculate Probabiliy of Acceptance for infinite lot size\n",
    "def infinite_size(c, n, data):\n",
    "    prob = []\n",
    "    for i in data.index:\n",
    "        p = data[i]\n",
    "        h = []\n",
    "        for x in range(c+1):\n",
    "            value = comb(n, x) * (p**x) * (1-p)**(n-x)\n",
    "            h.append(value)\n",
    "        prob.append(np.round(np.sum(h), 5))\n",
    "    return prob"
   ]
  },
  {
   "cell_type": "code",
   "execution_count": 7,
   "id": "dfc2b6fc",
   "metadata": {},
   "outputs": [],
   "source": [
    "def specific_d(d, n , data):\n",
    "    prob = []\n",
    "    for i in data.index:\n",
    "        p = data[i]\n",
    "        prob.append(np.round(comb(n, d) * (p**d) * (1-p)**(n-d), 5))\n",
    "    return prob"
   ]
  },
  {
   "cell_type": "code",
   "execution_count": 8,
   "id": "24894b81",
   "metadata": {},
   "outputs": [],
   "source": [
    "# Function to Plot the OC curves\n",
    "def show(X, Y, color, axis=[0, 1, 0, 1]):\n",
    "    plt.figure(figsize=(6, 5))\n",
    "    plt.plot(X, Y, color=color)\n",
    "    plt.xlabel('Lot Proportion Defective')\n",
    "    plt.ylabel('Probability of acceptance')\n",
    "    plt.axis(axis)\n",
    "    plt.grid()\n",
    "    plt.show()"
   ]
  },
  {
   "cell_type": "code",
   "execution_count": 12,
   "id": "deb19296",
   "metadata": {},
   "outputs": [
    {
     "data": {
      "image/png": "[encoded data removed]",
      "text/plain": [
       "<Figure size 432x360 with 1 Axes>"
      ]
     },
     "metadata": {
      "needs_background": "light"
     },
     "output_type": "display_data"
    }
   ],
   "source": [
    "# Lot size is finite \n",
    "N = 3000 # Lot size\n",
    "n = 150 # sample size\n",
    "c = 2\n",
    "\n",
    "# Create dataframe to store values\n",
    "df1 = pd.DataFrame()\n",
    "df1[\"p\"] = np.arange(0, 1.0, 0.001)\n",
    "df1['Prob_of_acceptance'] = hypergeometric(c, n, N, df1[\"p\"])\n",
    "show(df1['p'], df1['Prob_of_acceptance'], 'red')\n"
   ]
  },
  {
   "cell_type": "markdown",
   "id": "77316206",
   "metadata": {},
   "source": [
    "#####  AOQ Curve"
   ]
  },
  {
   "cell_type": "code",
   "execution_count": 14,
   "id": "c625845a",
   "metadata": {},
   "outputs": [
    {
     "data": {
      "text/html": [
       "<div>\n",
       "<style scoped>\n",
       "    .dataframe tbody tr th:only-of-type {\n",
       "        vertical-align: middle;\n",
       "    }\n",
       "\n",
       "    .dataframe tbody tr th {\n",
       "        vertical-align: top;\n",
       "    }\n",
       "\n",
       "    .dataframe thead th {\n",
       "        text-align: right;\n",
       "    }\n",
       "</style>\n",
       "<table border=\"1\" class=\"dataframe\">\n",
       "  <thead>\n",
       "    <tr style=\"text-align: right;\">\n",
       "      <th></th>\n",
       "      <th>p</th>\n",
       "      <th>Prob_of_acceptance</th>\n",
       "      <th>AOQ</th>\n",
       "    </tr>\n",
       "  </thead>\n",
       "  <tbody>\n",
       "    <tr>\n",
       "      <th>0</th>\n",
       "      <td>0.000</td>\n",
       "      <td>1.00000</td>\n",
       "      <td>0.000000</td>\n",
       "    </tr>\n",
       "    <tr>\n",
       "      <th>1</th>\n",
       "      <td>0.001</td>\n",
       "      <td>0.99988</td>\n",
       "      <td>0.000950</td>\n",
       "    </tr>\n",
       "    <tr>\n",
       "      <th>2</th>\n",
       "      <td>0.002</td>\n",
       "      <td>0.99781</td>\n",
       "      <td>0.001896</td>\n",
       "    </tr>\n",
       "    <tr>\n",
       "      <th>3</th>\n",
       "      <td>0.003</td>\n",
       "      <td>0.99176</td>\n",
       "      <td>0.002827</td>\n",
       "    </tr>\n",
       "    <tr>\n",
       "      <th>4</th>\n",
       "      <td>0.004</td>\n",
       "      <td>0.98068</td>\n",
       "      <td>0.003727</td>\n",
       "    </tr>\n",
       "    <tr>\n",
       "      <th>...</th>\n",
       "      <td>...</td>\n",
       "      <td>...</td>\n",
       "      <td>...</td>\n",
       "    </tr>\n",
       "    <tr>\n",
       "      <th>995</th>\n",
       "      <td>0.995</td>\n",
       "      <td>0.00000</td>\n",
       "      <td>0.000000</td>\n",
       "    </tr>\n",
       "    <tr>\n",
       "      <th>996</th>\n",
       "      <td>0.996</td>\n",
       "      <td>0.00000</td>\n",
       "      <td>0.000000</td>\n",
       "    </tr>\n",
       "    <tr>\n",
       "      <th>997</th>\n",
       "      <td>0.997</td>\n",
       "      <td>0.00000</td>\n",
       "      <td>0.000000</td>\n",
       "    </tr>\n",
       "    <tr>\n",
       "      <th>998</th>\n",
       "      <td>0.998</td>\n",
       "      <td>0.00000</td>\n",
       "      <td>0.000000</td>\n",
       "    </tr>\n",
       "    <tr>\n",
       "      <th>999</th>\n",
       "      <td>0.999</td>\n",
       "      <td>0.00000</td>\n",
       "      <td>0.000000</td>\n",
       "    </tr>\n",
       "  </tbody>\n",
       "</table>\n",
       "<p>1000 rows × 3 columns</p>\n",
       "</div>"
      ],
      "text/plain": [
       "         p  Prob_of_acceptance       AOQ\n",
       "0    0.000             1.00000  0.000000\n",
       "1    0.001             0.99988  0.000950\n",
       "2    0.002             0.99781  0.001896\n",
       "3    0.003             0.99176  0.002827\n",
       "4    0.004             0.98068  0.003727\n",
       "..     ...                 ...       ...\n",
       "995  0.995             0.00000  0.000000\n",
       "996  0.996             0.00000  0.000000\n",
       "997  0.997             0.00000  0.000000\n",
       "998  0.998             0.00000  0.000000\n",
       "999  0.999             0.00000  0.000000\n",
       "\n",
       "[1000 rows x 3 columns]"
      ]
     },
     "execution_count": 14,
     "metadata": {},
     "output_type": "execute_result"
    }
   ],
   "source": [
    "df1['AOQ'] = [(df1.iloc[i,0] * df1.iloc[i,1] * (N-n))/N for i in df1.index]\n",
    "df1"
   ]
  },
  {
   "cell_type": "code",
   "execution_count": 15,
   "id": "67bc9891",
   "metadata": {},
   "outputs": [
    {
     "name": "stdout",
     "output_type": "stream",
     "text": [
      "Proportion of defective is : 0.015\n",
      "Average Out-going Quality Limit is : 0.008653312499999998\n"
     ]
    }
   ],
   "source": [
    "# The Average Out-going Quality Limit and its corresponding p\n",
    "max_aoq = max(df1['AOQ'])\n",
    "p = df1[df1['AOQ'] == max_aoq]['p'].values\n",
    "\n",
    "print('Proportion of defective is :', p[0])\n",
    "print('Average Out-going Quality Limit is :', max_aoq)"
   ]
  },
  {
   "cell_type": "code",
   "execution_count": 16,
   "id": "129e3f5f",
   "metadata": {},
   "outputs": [
    {
     "data": {
      "image/png": "[encoded data removed]",
      "text/plain": [
       "<Figure size 576x504 with 1 Axes>"
      ]
     },
     "metadata": {
      "needs_background": "light"
     },
     "output_type": "display_data"
    }
   ],
   "source": [
    "plt.figure(figsize=(8, 7))\n",
    "X = np.arange(0, 1.0, 0.001)\n",
    "plt.plot(X, df1['AOQ'], color='blue')\n",
    "plt.xlabel('Lot Proportion Defective')\n",
    "plt.ylabel('AOQ')\n",
    "plt.axhline(max_aoq, color='red')\n",
    "plt.axvline(p, color='red')\n",
    "plt.axis([0, 0.09, 0, 0.01])\n",
    "plt.grid()\n",
    "plt.show()"
   ]
  },
  {
   "cell_type": "markdown",
   "id": "63e90e31",
   "metadata": {},
   "source": [
    "##### ATI Curve"
   ]
  },
  {
   "cell_type": "code",
   "execution_count": 17,
   "id": "94f41dd6",
   "metadata": {},
   "outputs": [
    {
     "data": {
      "text/html": [
       "<div>\n",
       "<style scoped>\n",
       "    .dataframe tbody tr th:only-of-type {\n",
       "        vertical-align: middle;\n",
       "    }\n",
       "\n",
       "    .dataframe tbody tr th {\n",
       "        vertical-align: top;\n",
       "    }\n",
       "\n",
       "    .dataframe thead th {\n",
       "        text-align: right;\n",
       "    }\n",
       "</style>\n",
       "<table border=\"1\" class=\"dataframe\">\n",
       "  <thead>\n",
       "    <tr style=\"text-align: right;\">\n",
       "      <th></th>\n",
       "      <th>p</th>\n",
       "      <th>Prob_of_acceptance</th>\n",
       "      <th>AOQ</th>\n",
       "      <th>ATI</th>\n",
       "    </tr>\n",
       "  </thead>\n",
       "  <tbody>\n",
       "    <tr>\n",
       "      <th>0</th>\n",
       "      <td>0.000</td>\n",
       "      <td>1.00000</td>\n",
       "      <td>0.000000</td>\n",
       "      <td>150.0000</td>\n",
       "    </tr>\n",
       "    <tr>\n",
       "      <th>1</th>\n",
       "      <td>0.001</td>\n",
       "      <td>0.99988</td>\n",
       "      <td>0.000950</td>\n",
       "      <td>150.3420</td>\n",
       "    </tr>\n",
       "    <tr>\n",
       "      <th>2</th>\n",
       "      <td>0.002</td>\n",
       "      <td>0.99781</td>\n",
       "      <td>0.001896</td>\n",
       "      <td>156.2415</td>\n",
       "    </tr>\n",
       "    <tr>\n",
       "      <th>3</th>\n",
       "      <td>0.003</td>\n",
       "      <td>0.99176</td>\n",
       "      <td>0.002827</td>\n",
       "      <td>173.4840</td>\n",
       "    </tr>\n",
       "    <tr>\n",
       "      <th>4</th>\n",
       "      <td>0.004</td>\n",
       "      <td>0.98068</td>\n",
       "      <td>0.003727</td>\n",
       "      <td>205.0620</td>\n",
       "    </tr>\n",
       "  </tbody>\n",
       "</table>\n",
       "</div>"
      ],
      "text/plain": [
       "       p  Prob_of_acceptance       AOQ       ATI\n",
       "0  0.000             1.00000  0.000000  150.0000\n",
       "1  0.001             0.99988  0.000950  150.3420\n",
       "2  0.002             0.99781  0.001896  156.2415\n",
       "3  0.003             0.99176  0.002827  173.4840\n",
       "4  0.004             0.98068  0.003727  205.0620"
      ]
     },
     "execution_count": 17,
     "metadata": {},
     "output_type": "execute_result"
    }
   ],
   "source": [
    "df1['ATI'] = [(n + (1 - df1.iloc[i, 1])*(N - n)) for i in df1.index]\n",
    "df1.head()"
   ]
  },
  {
   "cell_type": "code",
   "execution_count": 18,
   "id": "5fa0fd00",
   "metadata": {},
   "outputs": [
    {
     "data": {
      "image/png": "[encoded data removed]",
      "text/plain": [
       "<Figure size 576x504 with 1 Axes>"
      ]
     },
     "metadata": {
      "needs_background": "light"
     },
     "output_type": "display_data"
    }
   ],
   "source": [
    "plt.figure(figsize=(8, 7))\n",
    "X = np.arange(0, 1.0, 0.001)\n",
    "plt.plot(X, df1['ATI'], color='purple')\n",
    "plt.xlabel('Lot Proportion Defective')\n",
    "plt.ylabel('Average Total Inspection (ATI)')\n",
    "plt.axis([0, 0.1, 140, 3100])\n",
    "plt.grid()\n",
    "plt.show()"
   ]
  },
  {
   "cell_type": "markdown",
   "id": "f3e0d1c7",
   "metadata": {},
   "source": [
    "#### Lab 11"
   ]
  },
  {
   "cell_type": "markdown",
   "id": "3f7279c2",
   "metadata": {},
   "source": [
    "Draw the primary and supplementary OC curves for a double-sampling plan with 𝑛1 = 50,𝑐1 = 2,𝑛2 = 100,𝑐2 = 6. If the incoming lots have fraction non- conforming p = 0.05, what is the probability of acceptance on the first sample? What is the probability of final acceptance? Calculate the probability of rejection on the first sample."
   ]
  },
  {
   "cell_type": "code",
   "execution_count": 20,
   "id": "72a2d06d",
   "metadata": {},
   "outputs": [],
   "source": [
    "𝑛1 = 50\n",
    "𝑐1 = 2\n",
    "𝑛2 = 100\n",
    "𝑐2 = 6\n",
    "\n",
    "# Create dataframe to store values\n",
    "df2 = pd.DataFrame()\n",
    "df2[\"p\"] = np.arange(0, 1, 0.001)\n",
    "df2['Prob_of_acceptance_I'] = infinite_size(𝑐1, 𝑛1, df2['p'])"
   ]
  },
  {
   "cell_type": "code",
   "execution_count": 22,
   "id": "a567123b",
   "metadata": {},
   "outputs": [
    {
     "data": {
      "image/png": "[encoded data removed]",
      "text/plain": [
       "<Figure size 576x504 with 1 Axes>"
      ]
     },
     "metadata": {
      "needs_background": "light"
     },
     "output_type": "display_data"
    }
   ],
   "source": [
    "# Calculate the probability of acceptance II\n",
    "# d1 + d2 <= 2 and c1 < d1 <= c2 means that d1 can have {3, 4, 5, 6}\n",
    "'''  -----------------All the possibilities--------------------\n",
    "- d1 = 3 and d2 <=3\n",
    "- d1 = 4 and d2 <=2\n",
    "- d1 = 5 and d2 <= 1\n",
    "- d1 = 6 and d2 = 0\n",
    "''' \n",
    "\n",
    "# Case 1\n",
    "df2['case1_a'] = specific_d(d=3, n=𝑛1, data=df2['p'])\n",
    "df2['case1_b'] = infinite_size(c=3, n=𝑛2, data=df2['p'])\n",
    "prod1 = df2['case1_a'] * df2['case1_b']\n",
    "\n",
    "# Case 2\n",
    "df2['case2_a'] = specific_d(d=4, n=𝑛1, data=df2['p'])\n",
    "df2['case2_b'] = infinite_size(c=2, n=𝑛2, data=df2['p'])\n",
    "prod2 = df2['case2_a'] * df2['case2_b']\n",
    "\n",
    "# Case 3\n",
    "df2['case3_a'] = specific_d(d=5, n=𝑛1, data=df2['p'])\n",
    "df2['case3_b'] = infinite_size(c=1, n=𝑛2, data=df2['p'])\n",
    "prod3 = df2['case3_a'] * df2['case3_b']\n",
    "\n",
    "# Case 4\n",
    "df2['case4_a'] = specific_d(d=6, n=𝑛1, data=df2['p'])\n",
    "df2['case4_b'] = specific_d(d=0, n=𝑛2, data=df2['p'])\n",
    "prod4 = df2['case4_a'] * df2['case4_b']\n",
    "\n",
    "# Total Probability of Acceptance II \n",
    "df2['Prob_of_acceptance_II'] =  prod1 + prod2 + prod3 + prod4\n",
    "\n",
    "# Total Probability of Acceptance\n",
    "df2['Prob_of_acceptance'] = df2['Prob_of_acceptance_I'] + df2['Prob_of_acceptance_II']\n",
    "\n",
    "# Plots\n",
    "plt.figure(figsize=(8, 7))\n",
    "X = np.arange(0, 1.0, 0.001)\n",
    "plt.plot(X, df2['Prob_of_acceptance_I'], color='blue')\n",
    "plt.plot(X, df2['Prob_of_acceptance'], color='red')\n",
    "plt.xlabel('Lot Proportion Defective')\n",
    "plt.ylabel('Probability of acceptance')\n",
    "plt.axis([0, 0.20, 0, 1])\n",
    "plt.legend(['Probability of acceptance I', 'Probability of acceptance']) \n",
    "plt.show()"
   ]
  },
  {
   "cell_type": "markdown",
   "id": "e5ecfcf8",
   "metadata": {},
   "source": [
    "##### b- For p = 0.05, What is the probability of acceptance I and the total probability of acceptance."
   ]
  },
  {
   "cell_type": "markdown",
   "id": "3923fcce",
   "metadata": {},
   "source": [
    "#### Lab 12"
   ]
  },
  {
   "cell_type": "markdown",
   "id": "ed3fdad9",
   "metadata": {},
   "source": [
    "Derive an item-by-item sequential-sampling plan for which 𝑝1 = 0.02,𝛼 = 0.05,𝑝2 = 0.15, and 𝛽=0.10. Draw the OC curve for this plan."
   ]
  },
  {
   "cell_type": "code",
   "execution_count": 23,
   "id": "31d52d09",
   "metadata": {},
   "outputs": [
    {
     "name": "stdout",
     "output_type": "stream",
     "text": [
      "The acceptance line is : -1.04 + 0.07*n\n",
      "The rejection line is : 1.34 + 0.07*n\n",
      "Probabality of acceptance is : 0.5621471973289098\n"
     ]
    },
    {
     "data": {
      "image/png": "[encoded data removed]",
      "text/plain": [
       "<Figure size 576x504 with 1 Axes>"
      ]
     },
     "metadata": {
      "needs_background": "light"
     },
     "output_type": "display_data"
    }
   ],
   "source": [
    "𝑝1 = 0.02\n",
    "𝛼 =.05    \n",
    "𝑝2 = 0.15\n",
    "𝛽=0.10\n",
    "\n",
    "k = np.log2((𝑝2*(1-𝑝1))/(𝑝1*(1-𝑝2)))\n",
    "h1 = (np.log2((1-𝛼)/𝛽))/k\n",
    "h2 = (np.log2((1-𝛽)/𝛼))/k\n",
    "s = np.log2((1-𝑝1)/(1-𝑝2)) / k\n",
    "\n",
    "print(f'The acceptance line is : {np.round(-h1, 2)} + {np.round(s,2)}*n')\n",
    "print(f'The rejection line is : {np.round(h2, 2)} + {np.round(s,2)}*n')\n",
    "print('Probabality of acceptance is :', (h2/(h1+h2)))\n",
    "plt.figure(figsize=(8, 7))\n",
    "n = np.linspace(0, 100, 2)\n",
    "plt.plot(n, -h1 + s*n, 'red')\n",
    "plt.plot(n, h2 + s*n, 'blue')\n",
    "plt.legend(['Acceptance line', 'Rejection line'])\n",
    "plt.axhline(y=0 , color='orange')\n",
    "plt.show()"
   ]
  },
  {
   "cell_type": "code",
   "execution_count": null,
   "id": "9c164f84",
   "metadata": {},
   "outputs": [],
   "source": []
  }
 ],
 "metadata": {
  "kernelspec": {
   "display_name": "Python 3 (ipykernel)",
   "language": "python",
   "name": "python3"
  },
  "language_info": {
   "codemirror_mode": {
    "name": "ipython",
    "version": 3
   },
   "file_extension": ".py",
   "mimetype": "text/x-python",
   "name": "python",
   "nbconvert_exporter": "python",
   "pygments_lexer": "ipython3",
   "version": "3.8.16"
  }
 },
 "nbformat": 4,
 "nbformat_minor": 5
}
